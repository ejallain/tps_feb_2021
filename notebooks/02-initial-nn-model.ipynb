{
 "cells": [
  {
   "cell_type": "code",
   "execution_count": 1,
   "metadata": {},
   "outputs": [
    {
     "name": "stderr",
     "output_type": "stream",
     "text": [
      "c:\\Users\\eria\\Anaconda3\\lib\\site-packages\\scipy\\__init__.py:146: UserWarning: A NumPy version >=1.16.5 and <1.23.0 is required for this version of SciPy (detected version 1.23.4\n",
      "  warnings.warn(f\"A NumPy version >={np_minversion} and <{np_maxversion}\"\n"
     ]
    }
   ],
   "source": [
    "import pandas as pd\n",
    "import tensorflow as tf\n",
    "from tensorflow import keras"
   ]
  },
  {
   "cell_type": "code",
   "execution_count": 2,
   "metadata": {},
   "outputs": [],
   "source": [
    "from tps_feb_2021.config import config\n",
    "from tps_feb_2021.utils import save_model, get_run_logdir"
   ]
  },
  {
   "cell_type": "code",
   "execution_count": 3,
   "metadata": {},
   "outputs": [],
   "source": [
    "data_dir = config['data_dir']\n",
    "\n",
    "X = pd.read_csv(data_dir + 'processed/X_train.csv')\n",
    "y = pd.read_csv(data_dir + 'processed/y_train.csv')"
   ]
  },
  {
   "cell_type": "code",
   "execution_count": 4,
   "metadata": {},
   "outputs": [
    {
     "data": {
      "text/plain": [
       "(300000, 70)"
      ]
     },
     "execution_count": 4,
     "metadata": {},
     "output_type": "execute_result"
    }
   ],
   "source": [
    "X.shape"
   ]
  },
  {
   "cell_type": "code",
   "execution_count": 5,
   "metadata": {},
   "outputs": [
    {
     "data": {
      "text/plain": [
       "(300000, 1)"
      ]
     },
     "execution_count": 5,
     "metadata": {},
     "output_type": "execute_result"
    }
   ],
   "source": [
    "y.shape"
   ]
  },
  {
   "cell_type": "code",
   "execution_count": 6,
   "metadata": {},
   "outputs": [],
   "source": [
    "from sklearn.model_selection import train_test_split"
   ]
  },
  {
   "cell_type": "code",
   "execution_count": 7,
   "metadata": {},
   "outputs": [],
   "source": [
    "X_train, X_valid, y_train, y_valid = train_test_split(X, y, random_state=42)"
   ]
  },
  {
   "cell_type": "markdown",
   "metadata": {},
   "source": [
    "```\n",
    "model = keras.models.Sequential([\n",
    "    keras.layers.Dense(512, activation='relu', input_shape=X_train.shape[1:]),\n",
    "    keras.layers.Dense(512, activation='relu'),\n",
    "    keras.layers.Dense(512, activation='relu'),\n",
    "    keras.layers.Dense(1)\n",
    "])\n",
    "```\n",
    "I tried the above simple model first.  It was able to achieve a low loss pretty easily but was overfitting.  I'll add some regularization in the next iteration."
   ]
  },
  {
   "cell_type": "markdown",
   "metadata": {},
   "source": [
    "```\n",
    "model = keras.models.Sequential([\n",
    "    keras.layers.Dense(512, activation='relu', input_shape=X_train.shape[1:], kernel_regularizer=keras.regularizers.L2(l=0.003)),\n",
    "    keras.layers.Dense(512, activation='relu', kernel_regularizer=keras.regularizers.L2(l=0.003)),\n",
    "    keras.layers.Dense(512, activation='relu', kernel_regularizer=keras.regularizers.L2(l=0.003)),\n",
    "    keras.layers.Dense(1)\n",
    "])\n",
    "```\n",
    "Adding L2 regularization seemed to help with overfitting a bit but now the loss is significantly higher than top [Leaderboard loss levels](https://www.kaggle.com/competitions/tabular-playground-series-feb-2021/leaderboard).  The loss seems stuck at around 0.75 MSE (~0.866 RMSE).  I'll try to continue with a smaller learning rate to see if further improvement might be possible.  learning_rate=0.01 for the above."
   ]
  },
  {
   "cell_type": "markdown",
   "metadata": {},
   "source": [
    "Perhaps minor progress with decreasing the learning rate.  I'll now try to use a sigmoid activation function on the output layer and scale it to the target.  I have read that this can often help models converge."
   ]
  },
  {
   "cell_type": "code",
   "execution_count": 8,
   "metadata": {},
   "outputs": [],
   "source": [
    "# for sigmoid output rescaling\n",
    "min_target = y_train.min()\n",
    "max_target = y_train.max()"
   ]
  },
  {
   "cell_type": "code",
   "execution_count": 36,
   "metadata": {},
   "outputs": [],
   "source": [
    "model = keras.models.Sequential([\n",
    "    keras.layers.Dense(512, activation='relu', input_shape=X_train.shape[1:], kernel_regularizer=keras.regularizers.L2(l=0.003)),\n",
    "    keras.layers.Dense(512, activation='relu', kernel_regularizer=keras.regularizers.L2(l=0.003)),\n",
    "    keras.layers.Dense(512, activation='relu', kernel_regularizer=keras.regularizers.L2(l=0.003)),\n",
    "    keras.layers.Dense(1, activation = 'sigmoid'),\n",
    "    keras.layers.Lambda(lambda x : x * (max_target - min_target) + min_target)\n",
    "])"
   ]
  },
  {
   "cell_type": "code",
   "execution_count": 37,
   "metadata": {},
   "outputs": [],
   "source": [
    "model.compile(loss='mean_squared_error', optimizer=keras.optimizers.SGD(learning_rate=0.01))"
   ]
  },
  {
   "cell_type": "code",
   "execution_count": 38,
   "metadata": {},
   "outputs": [
    {
     "data": {
      "text/plain": [
       "'C:/Users/eria/OneDrive - Novozymes A S/Documents/projects/kaggle/tabular_playground_series/tps_feb_2021/notebooks/my_logs\\\\run_2022_11_04-14_48_01'"
      ]
     },
     "execution_count": 38,
     "metadata": {},
     "output_type": "execute_result"
    }
   ],
   "source": [
    "#set up for TensorBoard\n",
    "import os\n",
    "#root_logdir = os.path.join(os.curdir, 'my_logs')\n",
    "proj_dir = 'C:/Users/eria/OneDrive - Novozymes A S/Documents/projects/kaggle/tabular_playground_series/tps_feb_2021/'\n",
    "root_logdir = proj_dir + 'notebooks/my_logs'\n",
    "\n",
    "def get_run_logdir():\n",
    "    import time\n",
    "    run_id = time.strftime('run_%Y_%m_%d-%H_%M_%S')\n",
    "    return os.path.join(root_logdir, run_id)\n",
    "\n",
    "run_logdir = get_run_logdir()\n",
    "run_logdir"
   ]
  },
  {
   "cell_type": "code",
   "execution_count": 39,
   "metadata": {},
   "outputs": [],
   "source": [
    "tensorboard_cb = keras.callbacks.TensorBoard(run_logdir)"
   ]
  },
  {
   "cell_type": "code",
   "execution_count": 40,
   "metadata": {},
   "outputs": [
    {
     "name": "stdout",
     "output_type": "stream",
     "text": [
      "Epoch 1/20\n",
      "7032/7032 [==============================] - 46s 6ms/step - loss: 3.0767 - val_loss: 2.2296\n",
      "Epoch 2/20\n",
      "7032/7032 [==============================] - 42s 6ms/step - loss: 1.7478 - val_loss: 1.3880\n",
      "Epoch 3/20\n",
      "7032/7032 [==============================] - 46s 7ms/step - loss: 1.1803 - val_loss: 1.0337\n",
      "Epoch 4/20\n",
      "7032/7032 [==============================] - 45s 6ms/step - loss: 0.9363 - val_loss: 0.8778\n",
      "Epoch 5/20\n",
      "7032/7032 [==============================] - 42s 6ms/step - loss: 0.8311 - val_loss: 0.8077\n",
      "Epoch 6/20\n",
      "7032/7032 [==============================] - 46s 7ms/step - loss: 0.7853 - val_loss: 0.7763\n",
      "Epoch 7/20\n",
      "7032/7032 [==============================] - 45s 6ms/step - loss: 0.7656 - val_loss: 0.7606\n",
      "Epoch 8/20\n",
      "7032/7032 [==============================] - 45s 6ms/step - loss: 0.7570 - val_loss: 0.7558\n",
      "Epoch 9/20\n",
      "7032/7032 [==============================] - 45s 6ms/step - loss: 0.7529 - val_loss: 0.7613\n",
      "Epoch 10/20\n",
      "7032/7032 [==============================] - 45s 6ms/step - loss: 0.7513 - val_loss: 0.7608\n",
      "Epoch 11/20\n",
      "7032/7032 [==============================] - 43s 6ms/step - loss: 0.7503 - val_loss: 0.7621\n",
      "Epoch 12/20\n",
      "7032/7032 [==============================] - 39s 6ms/step - loss: 0.7502 - val_loss: 0.7608\n",
      "Epoch 13/20\n",
      "7032/7032 [==============================] - 39s 6ms/step - loss: 0.7499 - val_loss: 0.7500\n",
      "Epoch 14/20\n",
      "7032/7032 [==============================] - 40s 6ms/step - loss: 0.7498 - val_loss: 0.7501\n",
      "Epoch 15/20\n",
      "7032/7032 [==============================] - 40s 6ms/step - loss: 0.7502 - val_loss: 0.7497\n",
      "Epoch 16/20\n",
      "7032/7032 [==============================] - 40s 6ms/step - loss: 0.7499 - val_loss: 0.7663\n",
      "Epoch 17/20\n",
      "7032/7032 [==============================] - 43s 6ms/step - loss: 0.7499 - val_loss: 0.7747\n",
      "Epoch 18/20\n",
      "7032/7032 [==============================] - 42s 6ms/step - loss: 0.7497 - val_loss: 0.7475\n",
      "Epoch 19/20\n",
      "7032/7032 [==============================] - 45s 6ms/step - loss: 0.7495 - val_loss: 0.7525\n",
      "Epoch 20/20\n",
      "7032/7032 [==============================] - 48s 7ms/step - loss: 0.7495 - val_loss: 0.7503\n"
     ]
    }
   ],
   "source": [
    "history = model.fit(X_train, y_train, epochs=20,\n",
    "                    validation_data=(X_valid, y_valid),\n",
    "                    callbacks=[tensorboard_cb])"
   ]
  },
  {
   "cell_type": "markdown",
   "metadata": {},
   "source": [
    "Top leaderboard score: rmse = 0.84115 or mse = 0.70753"
   ]
  },
  {
   "cell_type": "code",
   "execution_count": 41,
   "metadata": {},
   "outputs": [],
   "source": [
    "# models_dir = config['models_dir']\n",
    "# model.save('./models/01_base_nn_model_L2reg.h5')\n",
    "# model.save('../models/03_base_nn_model_sigmoid_out.h5')\n",
    "save_model(model, '03_base_nn_model_sigmoid_out.h5')"
   ]
  },
  {
   "cell_type": "code",
   "execution_count": 46,
   "metadata": {},
   "outputs": [
    {
     "name": "stdout",
     "output_type": "stream",
     "text": [
      "Model: \"sequential_3\"\n",
      "_________________________________________________________________\n",
      " Layer (type)                Output Shape              Param #   \n",
      "=================================================================\n",
      " dense_12 (Dense)            (None, 512)               36352     \n",
      "                                                                 \n",
      " dense_13 (Dense)            (None, 512)               262656    \n",
      "                                                                 \n",
      " dense_14 (Dense)            (None, 512)               262656    \n",
      "                                                                 \n",
      " dense_15 (Dense)            (None, 1)                 513       \n",
      "                                                                 \n",
      " lambda (Lambda)             (None, 1)                 0         \n",
      "                                                                 \n",
      "=================================================================\n",
      "Total params: 562,177\n",
      "Trainable params: 562,177\n",
      "Non-trainable params: 0\n",
      "_________________________________________________________________\n"
     ]
    }
   ],
   "source": []
  },
  {
   "cell_type": "code",
   "execution_count": null,
   "metadata": {},
   "outputs": [],
   "source": []
  }
 ],
 "metadata": {
  "kernelspec": {
   "display_name": "Python 3.9.12 ('base')",
   "language": "python",
   "name": "python3"
  },
  "language_info": {
   "codemirror_mode": {
    "name": "ipython",
    "version": 3
   },
   "file_extension": ".py",
   "mimetype": "text/x-python",
   "name": "python",
   "nbconvert_exporter": "python",
   "pygments_lexer": "ipython3",
   "version": "3.9.12"
  },
  "orig_nbformat": 4,
  "vscode": {
   "interpreter": {
    "hash": "2acbe491751959775267b317a38ea4b53e5da97b39b9edb9aff51f85edb8ae0a"
   }
  }
 },
 "nbformat": 4,
 "nbformat_minor": 2
}
